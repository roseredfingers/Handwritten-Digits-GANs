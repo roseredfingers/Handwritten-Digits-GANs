{
 "cells": [
  {
   "cell_type": "code",
   "execution_count": 26,
   "id": "3bf919d3-27d8-490b-969b-a1b8b54e66f9",
   "metadata": {},
   "outputs": [],
   "source": [
    "from keras.models import load_model\n",
    "from numpy import asarray\n",
    "from matplotlib import pyplot\n",
    "from numpy.random import randn"
   ]
  },
  {
   "cell_type": "code",
   "execution_count": 27,
   "id": "6b01e73f-e2e8-4903-aafb-d08edd405440",
   "metadata": {},
   "outputs": [
    {
     "name": "stdout",
     "output_type": "stream",
     "text": [
      "WARNING:tensorflow:Error in loading the saved optimizer state. As a result, your model is starting with a freshly initialized optimizer.\n"
     ]
    }
   ],
   "source": [
    "model=load_model('generator_model_test.h5')"
   ]
  },
  {
   "cell_type": "code",
   "execution_count": 28,
   "id": "dad0f5e3-7a1d-40ca-ac0a-790eec5f980b",
   "metadata": {},
   "outputs": [],
   "source": [
    "vector=randn(100)\n",
    "vector=vector.reshape(1, 100)"
   ]
  },
  {
   "cell_type": "code",
   "execution_count": 29,
   "id": "8365868d-a0b8-410c-9d0e-2ca5650995a0",
   "metadata": {},
   "outputs": [
    {
     "name": "stdout",
     "output_type": "stream",
     "text": [
      "1/1 [==============================] - 0s 301ms/step\n"
     ]
    }
   ],
   "source": [
    "X=model.predict(vector)"
   ]
  },
  {
   "cell_type": "code",
   "execution_count": 30,
   "id": "290a74c6-90ca-4e93-a5cc-0c060a7294ca",
   "metadata": {},
   "outputs": [
    {
     "data": {
      "image/png": "[encoded data removed]",
      "text/plain": [
       "<Figure size 432x288 with 1 Axes>"
      ]
     },
     "metadata": {
      "needs_background": "light"
     },
     "output_type": "display_data"
    }
   ],
   "source": [
    "pyplot.imshow(X[0,:,:,0], cmap='gray_r')\n",
    "pyplot.show()"
   ]
  },
  {
   "cell_type": "code",
   "execution_count": 31,
   "id": "f9d6bde3-1698-41a2-a342-93e9eb847a7c",
   "metadata": {},
   "outputs": [],
   "source": [
    "from matplotlib import pyplot as plt"
   ]
  },
  {
   "cell_type": "code",
   "execution_count": 32,
   "id": "47b43007-d30a-4354-9a1c-2342c4a1c6c6",
   "metadata": {},
   "outputs": [],
   "source": [
    "def generate_latent_points(latent_dim, n_samples):\n",
    "    X_input=randn(latent_dim*n_samples)\n",
    "    X_input=X_input.reshape(n_samples, latent_dim)\n",
    "    return X_input"
   ]
  },
  {
   "cell_type": "code",
   "execution_count": 33,
   "id": "71858f21-345a-4d53-a7b5-4ad106b5ba72",
   "metadata": {},
   "outputs": [],
   "source": [
    "def save_plot(examples, n):\n",
    "    for i in range(n*n):\n",
    "        plt.subplot(n, n, 1+i)\n",
    "        plt.axis(\"off\")\n",
    "        plt.imshow(examples[0,:,:,0], cmap=\"gray_r\")\n",
    "    plt.show()"
   ]
  },
  {
   "cell_type": "code",
   "execution_count": 34,
   "id": "29b8e76d-a25f-47d4-ac12-284dd9032d4d",
   "metadata": {},
   "outputs": [
    {
     "name": "stdout",
     "output_type": "stream",
     "text": [
      "WARNING:tensorflow:Error in loading the saved optimizer state. As a result, your model is starting with a freshly initialized optimizer.\n"
     ]
    }
   ],
   "source": [
    "model=load_model('generator_model_test.h5')"
   ]
  },
  {
   "cell_type": "code",
   "execution_count": 35,
   "id": "926b3b4e-0f2c-4cd5-8222-ff8e85b1d0d9",
   "metadata": {},
   "outputs": [],
   "source": [
    "latent_points=generate_latent_points(100,16)"
   ]
  },
  {
   "cell_type": "code",
   "execution_count": 36,
   "id": "0736e75c-2d08-4e0a-a06d-2e85c12ef012",
   "metadata": {},
   "outputs": [
    {
     "name": "stdout",
     "output_type": "stream",
     "text": [
      "WARNING:tensorflow:5 out of the last 5 calls to <function Model.make_predict_function.<locals>.predict_function at 0x0000021D45E11A60> triggered tf.function retracing. Tracing is expensive and the excessive number of tracings could be due to (1) creating @tf.function repeatedly in a loop, (2) passing tensors with different shapes, (3) passing Python objects instead of tensors. For (1), please define your @tf.function outside of the loop. For (2), @tf.function has reduce_retracing=True option that can avoid unnecessary retracing. For (3), please refer to https://www.tensorflow.org/guide/function#controlling_retracing and https://www.tensorflow.org/api_docs/python/tf/function for  more details.\n",
      "1/1 [==============================] - 0s 197ms/step\n"
     ]
    }
   ],
   "source": [
    "X=model.predict(latent_points)"
   ]
  },
  {
   "cell_type": "code",
   "execution_count": 37,
   "id": "613800a6-9ba3-4afe-a021-ec5231cc938a",
   "metadata": {},
   "outputs": [
    {
     "data": {
      "image/png": "[encoded data removed]",
      "text/plain": [
       "<Figure size 432x288 with 16 Axes>"
      ]
     },
     "metadata": {
      "needs_background": "light"
     },
     "output_type": "display_data"
    }
   ],
   "source": [
    "save_plot(X, 4)"
   ]
  },
  {
   "cell_type": "code",
   "execution_count": null,
   "id": "aa005049-77d6-4e78-a207-fc5f91fbec8e",
   "metadata": {},
   "outputs": [],
   "source": []
  }
 ],
 "metadata": {
  "kernelspec": {
   "display_name": "Python 3 (ipykernel)",
   "language": "python",
   "name": "python3"
  },
  "language_info": {
   "codemirror_mode": {
    "name": "ipython",
    "version": 3
   },
   "file_extension": ".py",
   "mimetype": "text/x-python",
   "name": "python",
   "nbconvert_exporter": "python",
   "pygments_lexer": "ipython3",
   "version": "3.9.12"
  }
 },
 "nbformat": 4,
 "nbformat_minor": 5
}
